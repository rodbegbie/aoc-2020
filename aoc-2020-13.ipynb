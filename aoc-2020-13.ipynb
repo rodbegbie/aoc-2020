{
 "metadata": {
  "language_info": {
   "codemirror_mode": {
    "name": "ipython",
    "version": 3
   },
   "file_extension": ".py",
   "mimetype": "text/x-python",
   "name": "python",
   "nbconvert_exporter": "python",
   "pygments_lexer": "ipython3",
   "version": "3.9.1-final"
  },
  "orig_nbformat": 2,
  "kernelspec": {
   "name": "python3",
   "display_name": "Python 3",
   "language": "python"
  }
 },
 "nbformat": 4,
 "nbformat_minor": 2,
 "cells": [
  {
   "cell_type": "code",
   "execution_count": 45,
   "metadata": {},
   "outputs": [],
   "source": [
    "input_str = \"\"\"1006697\n",
    "13,x,x,41,x,x,x,x,x,x,x,x,x,641,x,x,x,x,x,x,x,x,x,x,x,19,x,x,x,x,17,x,x,x,x,x,x,x,x,x,x,x,29,x,661,x,x,x,x,x,37,x,x,x,x,x,x,x,x,x,x,x,x,x,x,x,x,23\"\"\"\n",
    "\n",
    "# input_str = \"\"\"939\n",
    "# 7,13,x,x,59,x,31,19\"\"\"\n",
    "\n",
    "departure_after = int(input_str.split(\"\\n\")[0])\n",
    "bus_ids = [int(x if x != \"x\" else -1) for x in input_str.split(\"\\n\")[1].split(\",\")]"
   ]
  },
  {
   "cell_type": "code",
   "execution_count": 46,
   "metadata": {},
   "outputs": [
    {
     "output_type": "stream",
     "name": "stdout",
     "text": [
      "NEXT_BUS_ID 661 NEXT_BUS_TIME 6 ANSWER: 3966\n"
     ]
    }
   ],
   "source": [
    "time_to_next_bus = {}\n",
    "for bus in bus_ids:\n",
    "    if bus == -1:\n",
    "        continue\n",
    "    time_to_next_bus[bus - (departure_after % bus)] = bus\n",
    "\n",
    "next_bus_time = min(time_to_next_bus.keys())\n",
    "next_bus_id = time_to_next_bus[next_bus_time]\n",
    "\n",
    "print (\"NEXT_BUS_ID\", next_bus_id, \"NEXT_BUS_TIME\", next_bus_time, \"ANSWER:\", next_bus_time * next_bus_id)"
   ]
  },
  {
   "cell_type": "code",
   "execution_count": 47,
   "metadata": {
    "tags": []
   },
   "outputs": [
    {
     "output_type": "error",
     "ename": "KeyboardInterrupt",
     "evalue": "",
     "traceback": [
      "\u001b[0;31m---------------------------------------------------------------------------\u001b[0m",
      "\u001b[0;31mKeyboardInterrupt\u001b[0m                         Traceback (most recent call last)",
      "\u001b[0;32m<ipython-input-47-376d6be40ae8>\u001b[0m in \u001b[0;36m<module>\u001b[0;34m\u001b[0m\n\u001b[1;32m     13\u001b[0m \u001b[0;32mwhile\u001b[0m \u001b[0;32mTrue\u001b[0m\u001b[0;34m:\u001b[0m\u001b[0;34m\u001b[0m\u001b[0;34m\u001b[0m\u001b[0m\n\u001b[1;32m     14\u001b[0m     \u001b[0mall_good\u001b[0m \u001b[0;34m=\u001b[0m \u001b[0;32mTrue\u001b[0m\u001b[0;34m\u001b[0m\u001b[0;34m\u001b[0m\u001b[0m\n\u001b[0;32m---> 15\u001b[0;31m     \u001b[0;32mfor\u001b[0m \u001b[0;34m(\u001b[0m\u001b[0mbus_id\u001b[0m\u001b[0;34m,\u001b[0m \u001b[0moffset\u001b[0m\u001b[0;34m)\u001b[0m \u001b[0;32min\u001b[0m \u001b[0mbus_offsets\u001b[0m\u001b[0;34m.\u001b[0m\u001b[0mitems\u001b[0m\u001b[0;34m(\u001b[0m\u001b[0;34m)\u001b[0m\u001b[0;34m:\u001b[0m\u001b[0;34m\u001b[0m\u001b[0;34m\u001b[0m\u001b[0m\n\u001b[0m\u001b[1;32m     16\u001b[0m         \u001b[0;32mif\u001b[0m \u001b[0;34m(\u001b[0m\u001b[0mx\u001b[0m \u001b[0;34m%\u001b[0m \u001b[0mbus_id\u001b[0m\u001b[0;34m)\u001b[0m \u001b[0;34m!=\u001b[0m \u001b[0moffset\u001b[0m\u001b[0;34m:\u001b[0m\u001b[0;34m\u001b[0m\u001b[0;34m\u001b[0m\u001b[0m\n\u001b[1;32m     17\u001b[0m             \u001b[0mall_good\u001b[0m \u001b[0;34m=\u001b[0m \u001b[0;32mFalse\u001b[0m\u001b[0;34m\u001b[0m\u001b[0;34m\u001b[0m\u001b[0m\n",
      "\u001b[0;31mKeyboardInterrupt\u001b[0m: "
     ]
    }
   ],
   "source": [
    "jump = max(bus_ids)\n",
    "max_bus_position = bus_ids.index(jump)\n",
    "\n",
    "bus_offsets = {}\n",
    "for pos in range(len(bus_ids)):\n",
    "    bus_id = bus_ids[pos]\n",
    "    if bus_id == -1:\n",
    "        continue\n",
    "\n",
    "    bus_offsets[bus_id] = (max_bus_position - pos) % bus_id\n",
    "\n",
    "x = (100000000000000 // max_bus_position) * max_bus_position\n",
    "while True:\n",
    "    all_good = True\n",
    "    for (bus_id, offset) in bus_offsets.items():\n",
    "        if (x % bus_id) != offset:\n",
    "            all_good = False\n",
    "            break\n",
    "    if all_good:\n",
    "        print (\"HOLY SHIT!\", x - max_bus_position)\n",
    "        break\n",
    "    x += jump\n",
    "\n",
    "print (\"ALL DONE\")"
   ]
  },
  {
   "cell_type": "code",
   "execution_count": null,
   "metadata": {},
   "outputs": [],
   "source": []
  }
 ]
}