{
 "metadata": {
  "language_info": {
   "codemirror_mode": {
    "name": "ipython",
    "version": 3
   },
   "file_extension": ".py",
   "mimetype": "text/x-python",
   "name": "python",
   "nbconvert_exporter": "python",
   "pygments_lexer": "ipython3",
   "version": "3.9.1-final"
  },
  "orig_nbformat": 2,
  "kernelspec": {
   "name": "python3",
   "display_name": "Python 3",
   "language": "python"
  }
 },
 "nbformat": 4,
 "nbformat_minor": 2,
 "cells": [
  {
   "cell_type": "code",
   "execution_count": 43,
   "metadata": {},
   "outputs": [],
   "source": [
    "# input_str = \"476138259\"\n",
    "\n",
    "input_str = \"389125467\"\n"
   ]
  },
  {
   "cell_type": "code",
   "execution_count": 53,
   "metadata": {},
   "outputs": [
    {
     "output_type": "stream",
     "name": "stdout",
     "text": [
      "-- move 1 --\ncups: (3) 8 9 1 2 5 4 6 7 \npick up 8, 9, 1\ndestination: 2 \n\n-- move 2 --\ncups: 3 (2) 8 9 1 5 4 6 7 \npick up 8, 9, 1\ndestination: 7 \n\n-- move 3 --\ncups: 3 2 (5) 4 6 7 8 9 1 \npick up 4, 6, 7\ndestination: 3 \n\n-- move 4 --\ncups: 7 2 5 (8) 9 1 3 4 6 \npick up 9, 1, 3\ndestination: 7 \n\n-- move 5 --\ncups: 3 2 5 8 (4) 6 7 9 1 \npick up 6, 7, 9\ndestination: 3 \n\n-- move 6 --\ncups: 9 2 5 8 4 (1) 3 6 7 \npick up 3, 6, 7\ndestination: 9 \n\n-- move 7 --\ncups: 7 2 5 8 4 1 (9) 3 6 \npick up 3, 6, 7\ndestination: 8 \n\n-- move 8 --\ncups: 8 3 6 7 4 1 9 (2) 5 \npick up 5, 8, 3\ndestination: 1 \n\n-- move 9 --\ncups: 7 4 1 5 8 3 9 2 (6) \npick up 7, 4, 1\ndestination: 5 \n\n-- move 10 --\ncups: (5) 7 4 1 8 3 9 2 6 \npick up 7, 4, 1\ndestination: 3 \n\n-- move 11 --\ncups: 5 (8) 3 7 4 1 9 2 6 \npick up 3, 7, 4\ndestination: 6 \n\n-- move 12 --\ncups: 5 8 (1) 9 2 6 3 7 4 \npick up 9, 2, 6\ndestination: 8 \n\n-- move 13 --\ncups: 2 6 1 (3) 7 4 5 8 9 \npick up 7, 4, 5\ndestination: 2 \n\n-- move 14 --\ncups: 5 6 1 3 (8) 9 2 7 4 \npick up 9, 2, 7\ndestination: 6 \n\n-- move 15 --\ncups: 2 7 1 3 8 (4) 5 6 9 \npick up 5, 6, 9\ndestination: 3 \n\n-- move 16 --\ncups: 3 5 6 9 8 4 (2) 7 1 \npick up 7, 1, 3\ndestination: 9 \n\n-- move 17 --\ncups: 9 7 1 3 8 4 2 (5) 6 \npick up 6, 9, 7\ndestination: 4 \n\n-- move 18 --\ncups: 3 8 4 6 9 7 2 5 (1) \npick up 3, 8, 4\ndestination: 9 \n\n-- move 19 --\ncups: (6) 9 3 8 4 7 2 5 1 \npick up 9, 3, 8\ndestination: 5 \n\n-- move 20 --\ncups: 6 (4) 7 2 5 9 3 8 1 \npick up 7, 2, 5\ndestination: 3 \n\n-- move 21 --\ncups: 6 4 (9) 3 7 2 5 8 1 \npick up 3, 7, 2\ndestination: 8 \n\n-- move 22 --\ncups: 6 4 9 (5) 8 3 7 2 1 \npick up 8, 3, 7\ndestination: 4 \n\n-- move 23 --\ncups: 3 7 9 5 (2) 1 6 4 8 \npick up 1, 6, 4\ndestination: 9 \n\n-- move 24 --\ncups: 1 6 4 5 2 (8) 3 7 9 \npick up 3, 7, 9\ndestination: 6 \n\n-- move 25 --\ncups: 7 9 4 5 2 8 (1) 6 3 \npick up 6, 3, 7\ndestination: 9 \n\n-- move 26 --\ncups: 3 7 4 5 2 8 1 (9) 6 \npick up 6, 3, 7\ndestination: 8 \n\n-- move 27 --\ncups: 5 2 8 6 3 7 1 9 (4) \npick up 5, 2, 8\ndestination: 3 \n\n-- move 28 --\ncups: (6) 3 5 2 8 7 1 9 4 \npick up 3, 5, 2\ndestination: 4 \n\n-- move 29 --\ncups: 6 (8) 7 1 9 4 3 5 2 \npick up 7, 1, 9\ndestination: 6 \n\n-- move 30 --\ncups: 9 8 (4) 3 5 2 6 7 1 \npick up 3, 5, 2\ndestination: 1 \n\n-- move 31 --\ncups: 9 8 4 (6) 7 1 3 5 2 \npick up 7, 1, 3\ndestination: 5 \n\n-- move 32 --\ncups: 9 8 4 6 (5) 7 1 3 2 \npick up 7, 1, 3\ndestination: 4 \n\n-- move 33 --\ncups: 7 1 3 6 5 (2) 9 8 4 \npick up 9, 8, 4\ndestination: 1 \n\n-- move 34 --\ncups: 8 4 3 6 5 2 (7) 1 9 \npick up 1, 9, 8\ndestination: 6 \n\n-- move 35 --\ncups: 6 1 9 8 5 2 7 (4) 3 \npick up 3, 6, 1\ndestination: 2 \n\n-- move 36 --\ncups: 8 5 2 3 6 1 7 4 (9) \npick up 8, 5, 2\ndestination: 7 \n\n-- move 37 --\ncups: (3) 6 1 7 8 5 2 4 9 \npick up 6, 1, 7\ndestination: 2 \n\n-- move 38 --\ncups: 3 (8) 5 2 6 1 7 4 9 \npick up 5, 2, 6\ndestination: 7 \n\n-- move 39 --\ncups: 3 8 (1) 7 5 2 6 4 9 \npick up 7, 5, 2\ndestination: 9 \n\n-- move 40 --\ncups: 3 8 1 (6) 4 9 7 5 2 \npick up 4, 9, 7\ndestination: 5 \n\n-- move 41 --\ncups: 3 8 1 6 (5) 4 9 7 2 \npick up 4, 9, 7\ndestination: 3 \n\n-- move 42 --\ncups: 7 8 1 6 5 (2) 3 4 9 \npick up 3, 4, 9\ndestination: 1 \n\n-- move 43 --\ncups: 3 4 9 6 5 2 (7) 8 1 \npick up 8, 1, 3\ndestination: 6 \n\n-- move 44 --\ncups: 6 8 1 3 5 2 7 (4) 9 \npick up 9, 6, 8\ndestination: 3 \n\n-- move 45 --\ncups: 3 9 6 8 5 2 7 4 (1) \npick up 3, 9, 6\ndestination: 8 \n\n-- move 46 --\ncups: (8) 3 9 6 5 2 7 4 1 \npick up 3, 9, 6\ndestination: 7 \n\n-- move 47 --\ncups: 8 (5) 2 7 3 9 6 4 1 \npick up 2, 7, 3\ndestination: 4 \n\n-- move 48 --\ncups: 8 5 (9) 6 4 2 7 3 1 \npick up 6, 4, 2\ndestination: 8 \n\n-- move 49 --\ncups: 2 5 9 (7) 3 1 8 6 4 \npick up 3, 1, 8\ndestination: 6 \n\n-- move 50 --\ncups: 2 5 9 7 (6) 3 1 8 4 \npick up 3, 1, 8\ndestination: 5 \n\n-- move 51 --\ncups: 1 8 9 7 6 (4) 2 5 3 \npick up 2, 5, 3\ndestination: 1 \n\n-- move 52 --\ncups: 3 8 9 7 6 4 (1) 2 5 \npick up 2, 5, 3\ndestination: 9 \n\n-- move 53 --\ncups: 2 5 3 7 6 4 1 (8) 9 \npick up 9, 2, 5\ndestination: 7 \n\n-- move 54 --\ncups: 7 9 2 5 6 4 1 8 (3) \npick up 7, 9, 2\ndestination: 1 \n\n-- move 55 --\ncups: (5) 6 4 1 7 9 2 8 3 \npick up 6, 4, 1\ndestination: 3 \n\n-- move 56 --\ncups: 5 (7) 9 2 8 3 6 4 1 \npick up 9, 2, 8\ndestination: 6 \n\n-- move 57 --\ncups: 5 7 (3) 6 9 2 8 4 1 \npick up 6, 9, 2\ndestination: 1 \n\n-- move 58 --\ncups: 5 7 3 (8) 4 1 6 9 2 \npick up 4, 1, 6\ndestination: 7 \n\n-- move 59 --\ncups: 1 6 3 8 (9) 2 5 7 4 \npick up 2, 5, 7\ndestination: 8 \n\n-- move 60 --\ncups: 8 2 5 7 9 (4) 1 6 3 \npick up 1, 6, 3\ndestination: 2 \n\n-- move 61 --\ncups: 6 3 5 7 9 4 (8) 2 1 \npick up 2, 1, 6\ndestination: 7 \n\n-- move 62 --\ncups: 7 2 1 6 9 4 8 (3) 5 \npick up 5, 7, 2\ndestination: 1 \n\n-- move 63 --\ncups: 5 7 2 6 9 4 8 3 (1) \npick up 5, 7, 2\ndestination: 9 \n\n-- move 64 --\ncups: (6) 9 5 7 2 4 8 3 1 \npick up 9, 5, 7\ndestination: 4 \n\n-- move 65 --\ncups: 6 (2) 4 9 5 7 8 3 1 \npick up 4, 9, 5\ndestination: 1 \n\n-- move 66 --\ncups: 6 2 (7) 8 3 1 4 9 5 \npick up 8, 3, 1\ndestination: 6 \n\n-- move 67 --\ncups: 1 2 7 (4) 9 5 6 8 3 \npick up 9, 5, 6\ndestination: 3 \n\n-- move 68 --\ncups: 1 2 7 4 (8) 3 9 5 6 \npick up 3, 9, 5\ndestination: 7 \n\n-- move 69 --\ncups: 3 9 5 4 8 (6) 1 2 7 \npick up 1, 2, 7\ndestination: 5 \n\n-- move 70 --\ncups: 1 2 7 4 8 6 (3) 9 5 \npick up 9, 5, 1\ndestination: 2 \n\n-- move 71 --\ncups: 5 1 7 4 8 6 3 (2) 9 \npick up 9, 5, 1\ndestination: 8 \n\n-- move 72 --\ncups: 4 8 9 5 1 6 3 2 (7) \npick up 4, 8, 9\ndestination: 6 \n\n-- move 73 --\ncups: (5) 1 6 4 8 9 3 2 7 \npick up 1, 6, 4\ndestination: 3 \n\n-- move 74 --\ncups: 5 (8) 9 3 1 6 4 2 7 \npick up 9, 3, 1\ndestination: 7 \n\n-- move 75 --\ncups: 5 8 (6) 4 2 7 9 3 1 \npick up 4, 2, 7\ndestination: 5 \n\n-- move 76 --\ncups: 7 8 6 (9) 3 1 5 4 2 \npick up 3, 1, 5\ndestination: 8 \n\n-- move 77 --\ncups: 1 5 6 9 (4) 2 7 8 3 \npick up 2, 7, 8\ndestination: 3 \n\n-- move 78 --\ncups: 1 5 6 9 4 (3) 2 7 8 \npick up 2, 7, 8\ndestination: 1 \n\n-- move 79 --\ncups: 8 5 6 9 4 3 (1) 2 7 \npick up 2, 7, 8\ndestination: 9 \n\n-- move 80 --\ncups: 9 2 7 8 4 3 1 (5) 6 \npick up 6, 9, 2\ndestination: 4 \n\n-- move 81 --\ncups: 8 4 6 9 2 3 1 5 (7) \npick up 8, 4, 6\ndestination: 5 \n\n-- move 82 --\ncups: (9) 2 3 1 5 8 4 6 7 \npick up 2, 3, 1\ndestination: 8 \n\n-- move 83 --\ncups: 9 (5) 8 2 3 1 4 6 7 \npick up 8, 2, 3\ndestination: 4 \n\n-- move 84 --\ncups: 9 5 (1) 4 8 2 3 6 7 \npick up 4, 8, 2\ndestination: 9 \n\n-- move 85 --\ncups: 2 5 1 (3) 6 7 9 4 8 \npick up 6, 7, 9\ndestination: 2 \n\n-- move 86 --\ncups: 9 5 1 3 (4) 8 2 6 7 \npick up 8, 2, 6\ndestination: 3 \n\n-- move 87 --\ncups: 3 8 2 6 4 (7) 9 5 1 \npick up 9, 5, 1\ndestination: 6 \n\n-- move 88 --\ncups: 6 9 5 1 4 7 (3) 8 2 \npick up 8, 2, 6\ndestination: 1 \n\n-- move 89 --\ncups: 1 8 2 6 4 7 3 (9) 5 \npick up 5, 1, 8\ndestination: 7 \n\n-- move 90 --\ncups: 6 4 7 5 1 8 3 9 (2) \npick up 6, 4, 7\ndestination: 1 \n\n-- move 91 --\ncups: (5) 1 6 4 7 8 3 9 2 \npick up 1, 6, 4\ndestination: 3 \n\n-- move 92 --\ncups: 5 (7) 8 3 1 6 4 9 2 \npick up 8, 3, 1\ndestination: 6 \n\n-- move 93 --\ncups: 5 7 (6) 8 3 1 4 9 2 \npick up 8, 3, 1\ndestination: 5 \n\n-- move 94 --\ncups: 1 7 6 (4) 9 2 5 8 3 \npick up 9, 2, 5\ndestination: 3 \n\n-- move 95 --\ncups: 1 7 6 4 (8) 3 9 2 5 \npick up 3, 9, 2\ndestination: 7 \n\n-- move 96 --\ncups: 9 2 6 4 8 (5) 1 7 3 \npick up 1, 7, 3\ndestination: 4 \n\n-- move 97 --\ncups: 4 1 7 3 8 5 (9) 2 6 \npick up 2, 6, 4\ndestination: 8 \n\n-- move 98 --\ncups: 3 8 2 6 4 5 9 (1) 7 \npick up 7, 3, 8\ndestination: 9 \n\n-- move 99 --\ncups: 6 4 5 9 7 3 8 1 (2) \npick up 6, 4, 5\ndestination: 1 \n\n-- move 100 --\ncups: (9) 7 3 8 1 6 4 5 2 \npick up 7, 3, 8\ndestination: 6 \n\n-- final --\ncups: 9 (1) 6 7 3 8 4 5 2 \nANSWER 67384529\n"
     ]
    }
   ],
   "source": [
    "moves = 100\n",
    "cur_cup = 0\n",
    "\n",
    "cups = [int(x) for x in input_str]\n",
    "num_cups = len(cups)\n",
    "\n",
    "move = 0\n",
    "while move < moves:\n",
    "    move += 1\n",
    "    print (f\"-- move {move} --\")\n",
    "    cup_print = \"\"\n",
    "    cur_cup_value = cups[cur_cup]\n",
    "    for i in range(len(cups)):\n",
    "        if i == cur_cup:\n",
    "            cup_print += \"(\" + str(cups[i]) + \") \"\n",
    "        else:\n",
    "            cup_print += str(cups[i]) + \" \"\n",
    "    \n",
    "    print (f\"cups: {cup_print}\")\n",
    "\n",
    "    pick_up = (cups + cups)[cur_cup+1:cur_cup+4]\n",
    "    print (\"pick up\", \", \".join([str(x) for x in pick_up]))\n",
    "    for cup in pick_up:\n",
    "        cups.remove(cup)\n",
    "    \n",
    "    insert_after = -1\n",
    "    consider = cur_cup_value - 1\n",
    "    while insert_after == -1:\n",
    "        if consider in cups:\n",
    "            insert_after = consider\n",
    "        else:\n",
    "            if consider <= 1:\n",
    "                consider = max(cups)\n",
    "            else:\n",
    "                consider -= 1\n",
    "    \n",
    "    print (\"destination:\", insert_after, \"\\n\")\n",
    "    \n",
    "    index = cups.index(insert_after) + 1\n",
    "    cups = cups[:index] + pick_up + cups[index:]\n",
    "\n",
    "    cur_cup_index = cups.index(cur_cup_value)\n",
    "    if cur_cup_index != cur_cup:\n",
    "        cups = cups[cur_cup_index - cur_cup:] + cups[:cur_cup_index - cur_cup]\n",
    "\n",
    "    cur_cup = (cur_cup + 1) % len(cups)\n",
    "\n",
    "\n",
    "cup_print = \"\"\n",
    "for i in range(len(cups)):\n",
    "    if i == cur_cup:\n",
    "        cup_print += \"(\" + str(cups[i]) + \") \"\n",
    "    else:\n",
    "        cup_print += str(cups[i]) + \" \"\n",
    "\n",
    "print (f\"-- final --\\ncups: {cup_print}\")\n",
    "\n",
    "index = cups.index(1)\n",
    "print (\"ANSWER\", \"\".join([str(x) for x in cups[index+1:] + cups[:index]]))"
   ]
  },
  {
   "cell_type": "code",
   "execution_count": 56,
   "metadata": {
    "tags": []
   },
   "outputs": [
    {
     "output_type": "stream",
     "name": "stdout",
     "text": [
      "-- move 1000 / 10000000 --\n",
      "-- move 2000 / 10000000 --\n"
     ]
    },
    {
     "output_type": "error",
     "ename": "KeyboardInterrupt",
     "evalue": "",
     "traceback": [
      "\u001b[0;31m---------------------------------------------------------------------------\u001b[0m",
      "\u001b[0;31mKeyboardInterrupt\u001b[0m                         Traceback (most recent call last)",
      "\u001b[0;32m<ipython-input-56-68286002be90>\u001b[0m in \u001b[0;36m<module>\u001b[0;34m\u001b[0m\n\u001b[1;32m     32\u001b[0m     \u001b[0;31m# print (\"destination:\", insert_after, \"\\n\")\u001b[0m\u001b[0;34m\u001b[0m\u001b[0;34m\u001b[0m\u001b[0;34m\u001b[0m\u001b[0m\n\u001b[1;32m     33\u001b[0m \u001b[0;34m\u001b[0m\u001b[0m\n\u001b[0;32m---> 34\u001b[0;31m     \u001b[0mindex\u001b[0m \u001b[0;34m=\u001b[0m \u001b[0mcups\u001b[0m\u001b[0;34m.\u001b[0m\u001b[0mindex\u001b[0m\u001b[0;34m(\u001b[0m\u001b[0minsert_after\u001b[0m\u001b[0;34m)\u001b[0m \u001b[0;34m+\u001b[0m \u001b[0;36m1\u001b[0m\u001b[0;34m\u001b[0m\u001b[0;34m\u001b[0m\u001b[0m\n\u001b[0m\u001b[1;32m     35\u001b[0m     \u001b[0mcups\u001b[0m \u001b[0;34m=\u001b[0m \u001b[0mcups\u001b[0m\u001b[0;34m[\u001b[0m\u001b[0;34m:\u001b[0m\u001b[0mindex\u001b[0m\u001b[0;34m]\u001b[0m \u001b[0;34m+\u001b[0m \u001b[0mpick_up\u001b[0m \u001b[0;34m+\u001b[0m \u001b[0mcups\u001b[0m\u001b[0;34m[\u001b[0m\u001b[0mindex\u001b[0m\u001b[0;34m:\u001b[0m\u001b[0;34m]\u001b[0m\u001b[0;34m\u001b[0m\u001b[0;34m\u001b[0m\u001b[0m\n\u001b[1;32m     36\u001b[0m \u001b[0;34m\u001b[0m\u001b[0m\n",
      "\u001b[0;31mKeyboardInterrupt\u001b[0m: "
     ]
    }
   ],
   "source": [
    "moves = 10000000\n",
    "cur_cup = 0\n",
    "num_cups = 1000000\n",
    "\n",
    "cups = [int(x) for x in input_str]\n",
    "cups += range(len(cups)+1, num_cups+1)\n",
    "\n",
    "# print (cups)\n",
    "\n",
    "move = 0\n",
    "while move < moves:\n",
    "    move += 1\n",
    "    if not move % 1000:\n",
    "        print (f\"-- move {move} / {moves} --\")\n",
    "\n",
    "    pick_up = (cups + cups)[cur_cup+1:cur_cup+4]\n",
    "    # print (\"pick up\", \", \".join([str(x) for x in pick_up]))\n",
    "    for cup in pick_up:\n",
    "        cups.remove(cup)\n",
    "    \n",
    "    insert_after = -1\n",
    "    consider = cur_cup_value - 1\n",
    "    while insert_after == -1:\n",
    "        if consider in cups:\n",
    "            insert_after = consider\n",
    "        else:\n",
    "            if consider <= 1:\n",
    "                consider = max(cups)\n",
    "            else:\n",
    "                consider -= 1\n",
    "    \n",
    "    # print (\"destination:\", insert_after, \"\\n\")\n",
    "    \n",
    "    index = cups.index(insert_after) + 1\n",
    "    cups = cups[:index] + pick_up + cups[index:]\n",
    "\n",
    "    cur_cup_index = cups.index(cur_cup_value)\n",
    "    if cur_cup_index != cur_cup:\n",
    "        cups = cups[cur_cup_index - cur_cup:] + cups[:cur_cup_index - cur_cup]\n",
    "\n",
    "    cur_cup = (cur_cup + 1) % len(cups)\n",
    "\n",
    "\n",
    "cup_print = \"\"\n",
    "for i in range(len(cups)):\n",
    "    if i == cur_cup:\n",
    "        cup_print += \"(\" + str(cups[i]) + \") \"\n",
    "    else:\n",
    "        cup_print += str(cups[i]) + \" \"\n",
    "\n",
    "print (f\"-- final --\\ncups: {cup_print}\")\n",
    "\n",
    "index = cups.index(1)\n",
    "print (\"ANSWER\", cups[index+1], cups[index+2])"
   ]
  },
  {
   "cell_type": "code",
   "execution_count": null,
   "metadata": {},
   "outputs": [],
   "source": []
  }
 ]
}