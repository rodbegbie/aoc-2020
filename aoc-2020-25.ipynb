{
 "cells": [
  {
   "cell_type": "code",
   "execution_count": 34,
   "metadata": {},
   "outputs": [],
   "source": [
    "CARD_PUBLIC = 17607508\n",
    "DOOR_PUBLIC = 15065270"
   ]
  },
  {
   "cell_type": "code",
   "execution_count": 35,
   "metadata": {},
   "outputs": [],
   "source": [
    "# SAMPLE\n",
    "\n",
    "# CARD_PUBLIC = 5764801\n",
    "# DOOR_PUBLIC = 17807724"
   ]
  },
  {
   "cell_type": "code",
   "execution_count": 37,
   "metadata": {},
   "outputs": [
    {
     "name": "stdout",
     "output_type": "stream",
     "text": [
      "FOUND! 1 15630689\n",
      "FOUND! 1 17956227\n",
      "ENCRYPTION KEY 12285001\n"
     ]
    }
   ],
   "source": [
    "# Part 1\n",
    "\n",
    "MOD = 20201227\n",
    "SUBJECT = 7\n",
    "\n",
    "def find_loop(val):\n",
    "    loop = 0\n",
    "    while True:\n",
    "        # print (\"TESTING\", val, loop)\n",
    "        if val == 1:\n",
    "            print (\"FOUND!\", val, loop)\n",
    "            break\n",
    "        elif val % SUBJECT == 0:\n",
    "            val = val // SUBJECT\n",
    "            loop += 1\n",
    "        else:\n",
    "            val += MOD\n",
    "    return loop\n",
    "\n",
    "card_loop = find_loop(CARD_PUBLIC)\n",
    "door_loop = find_loop(DOOR_PUBLIC)\n",
    "\n",
    "def transform (subject_number, loop_size):\n",
    "    val = 1\n",
    "    for i in range(loop_size):\n",
    "        val = (val * subject_number) % MOD\n",
    "    return val\n",
    "\n",
    "enc_key = transform(CARD_PUBLIC, door_loop)\n",
    "\n",
    "print (\"ENCRYPTION KEY\", enc_key)\n",
    "\n",
    "# card_loop_size = -1\n",
    "# door_loop_size = -1\n",
    "\n",
    "# try_loop = 0\n",
    "# while True:\n",
    "#     try_loop += 1 \n",
    "#     print (\"TRY\", try_loop)\n",
    "#     card_try = transform(7, try_loop)\n",
    "#     if card_try == CARD_PUBLIC:\n",
    "#         card_loop_size = try_loop\n",
    "#         print (\"FOUND CARD\")\n",
    "#     door_try = transform(7, try_loop)\n",
    "#     if door_try == DOOR_PUBLIC:\n",
    "#         door_loop_size = try_loop\n",
    "#         print (\"FOUND DOOR\")\n",
    "\n",
    "#     if door_loop_size != -1 and card_loop_size != -1:\n",
    "#         print (\"ALL DONE!\", \"card\", card_loop_size, \"door\", door_loop_size)\n",
    "#         break\n",
    "\n",
    "#     if try_loop > 20:\n",
    "#         print (\"GIVING UP!\")\n",
    "#         break"
   ]
  },
  {
   "cell_type": "code",
   "execution_count": null,
   "metadata": {},
   "outputs": [],
   "source": []
  }
 ],
 "metadata": {
  "interpreter": {
   "hash": "205856b9b090eba9047ea06a03ced68e94cf17b8913eba89dd6c4b35f1b3814e"
  },
  "kernelspec": {
   "display_name": "Python 3.10.0 64-bit",
   "language": "python",
   "name": "python3"
  },
  "language_info": {
   "codemirror_mode": {
    "name": "ipython",
    "version": 3
   },
   "file_extension": ".py",
   "mimetype": "text/x-python",
   "name": "python",
   "nbconvert_exporter": "python",
   "pygments_lexer": "ipython3",
   "version": "3.10.0"
  },
  "orig_nbformat": 4
 },
 "nbformat": 4,
 "nbformat_minor": 2
}
